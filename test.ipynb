{
 "cells": [
  {
   "cell_type": "code",
   "execution_count": null,
   "metadata": {},
   "outputs": [],
   "source": [
    "class Leader: \n",
    "\n",
    "    def __init__(self, traits, status, influence):\n",
    "        self.traits = traits\n",
    "        self.status = status\n",
    "        self.influence = influence \n",
    "        self.preference = [self.traits[0], self.traits[1]]\n",
    "        self.salience_issue = [self.traits[2], self.traits[3]]\n",
    "    \n",
    "    def demote(self, Tier_demote):\n",
    "        if Tier_demote.status == 1:\n",
    "            Tier_demote.status = 2\n",
    "        elif Tier_demote.status == 2:\n",
    "            Tier_demote.status = 3\n",
    "\n",
    "    def print(self):\n",
    "        ans = self.preference[0]\n",
    "        print(type(ans))\n",
    "\n",
    "\n",
    "class Tier:\n",
    "    def __init__(self, number, traits, status, influence):\n",
    "        self.number = number\n",
    "        self.traits = traits\n",
    "        self.status = status\n",
    "        self.influence = influence \n",
    "        self.preference = [self.traits[0], self.traits[1]]\n",
    "        self.salience_issue = [self.traits[2], self.traits[3]]\n",
    "\n",
    "traits = [rnd.randint(0,10), rnd.randint(0,10),rnd.random() , rnd.random()]\n",
    "influence = [rnd.uniform(0.67,1), rnd.uniform(0,0.33)]\n",
    "leader = Leader(traits, 1, influence)\n",
    "tier2_1 = Tier(1, [rnd.randint(0,10), rnd.randint(0,10), rnd.random(), rnd.random()], 2, [rnd.uniform(0.33,0.67), rnd.uniform(0.33,0.67)])\n",
    "leader.demote(tier2_1)\n",
    "print(tier2_1.status)\n",
    "\n",
    "print(type(leader.preference[0]))"
   ]
  },
  {
   "cell_type": "code",
   "execution_count": null,
   "metadata": {},
   "outputs": [],
   "source": [
    "import numpy.random as rnd\n",
    "import numpy as np\n",
    "\n",
    "xx = np.arange(-5,5,0.5)\n",
    "yy = np.arange(-5,5,0.5)\n",
    "X, Y = np.meshgrid(xx, yy)\n",
    "X, Z= np.meshgrid(xx,xx)\n",
    "print(X.shape)\n",
    "# print(Y)\n",
    "print(X)"
   ]
  },
  {
   "cell_type": "code",
   "execution_count": null,
   "metadata": {},
   "outputs": [],
   "source": [
    "import numpy.random as rnd\n",
    "\n",
    "a = [rnd.uniform(0,0.33) for i in range(2)]+[rnd.uniform(0,0.33) for i in range(2)]\n",
    "b = rnd.random()\n",
    "print(type(b))\n",
    "print(a)"
   ]
  },
  {
   "cell_type": "code",
   "execution_count": 1,
   "metadata": {},
   "outputs": [
    {
     "name": "stdout",
     "output_type": "stream",
     "text": [
      "[1, 3, 3, 4]\n"
     ]
    }
   ],
   "source": [
    "a = [1,2,3,4]\n",
    "a[1] = a[2]\n",
    "print(a)"
   ]
  },
  {
   "cell_type": "code",
   "execution_count": 3,
   "metadata": {},
   "outputs": [
    {
     "name": "stdout",
     "output_type": "stream",
     "text": [
      "25\n"
     ]
    }
   ],
   "source": [
    "a = 5\n",
    "\n",
    "def f():\n",
    "    b = a ** 2\n",
    "    return b\n",
    "\n",
    "print(f())\n"
   ]
  }
 ],
 "metadata": {
  "kernelspec": {
   "display_name": "base",
   "language": "python",
   "name": "python3"
  },
  "language_info": {
   "codemirror_mode": {
    "name": "ipython",
    "version": 3
   },
   "file_extension": ".py",
   "mimetype": "text/x-python",
   "name": "python",
   "nbconvert_exporter": "python",
   "pygments_lexer": "ipython3",
   "version": "3.9.13"
  },
  "orig_nbformat": 4
 },
 "nbformat": 4,
 "nbformat_minor": 2
}
