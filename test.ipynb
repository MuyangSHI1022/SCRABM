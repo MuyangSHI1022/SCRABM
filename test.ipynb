{
 "cells": [
  {
   "cell_type": "code",
   "execution_count": 4,
   "metadata": {},
   "outputs": [
    {
     "data": {
      "image/png": "[encoded data removed]",
      "text/plain": [
       "<Figure size 640x480 with 1 Axes>"
      ]
     },
     "metadata": {},
     "output_type": "display_data"
    }
   ],
   "source": [
    "import matplotlib.pyplot as plt\n",
    "plt.plot([6], [8], marker='s', color='green')\n",
    "plt.show()"
   ]
  },
  {
   "cell_type": "code",
   "execution_count": 9,
   "metadata": {},
   "outputs": [
    {
     "name": "stdout",
     "output_type": "stream",
     "text": [
      "[2.8284271247461903]\n"
     ]
    }
   ],
   "source": [
    "import numpy as np\n",
    "import math\n",
    "x1 = [2,4,6]\n",
    "y1 = [5,6,7]\n",
    "x2 = [3,5]\n",
    "y2 = [5,7]\n",
    "\n",
    "\n",
    "\n",
    "#求点集之间距离，返回距离集合,可以用np.sum求距离和\n",
    "def distanceEns(x1,y1,x2,y2):\n",
    "    ans = []\n",
    "    for i in range(len(x1)):\n",
    "        for j in range(len(x2)):\n",
    "            x = x1[i] - x2[j]\n",
    "            y = y1[i] - y2[j]\n",
    "            ans.append(math.sqrt(x**2+y**2))\n",
    "    return ans\n",
    "\n",
    "print(distanceEns([5],[6],[7],[8]))"
   ]
  },
  {
   "cell_type": "code",
   "execution_count": 5,
   "metadata": {},
   "outputs": [
    {
     "name": "stdout",
     "output_type": "stream",
     "text": [
      "0.5631568175522497\n"
     ]
    }
   ],
   "source": [
    "import numpy.random as rnd\n",
    "p = rnd.random()\n",
    "if p > 0.5 :\n",
    "    value = rnd.uniform(0, 0.33)\n",
    "    print(p-value)"
   ]
  },
  {
   "cell_type": "code",
   "execution_count": 14,
   "metadata": {},
   "outputs": [
    {
     "name": "stdout",
     "output_type": "stream",
     "text": [
      "miu\n",
      "mao\n"
     ]
    }
   ],
   "source": [
    "class dog():\n",
    "    def __init__(self, name, age):\n",
    "       self.name = name\n",
    "       self.age = age\n",
    "    \n",
    "    def change(self,cat):\n",
    "        cat.changeCatName(\"mao\")\n",
    "\n",
    "class cat():\n",
    "    def __init__(self, name, age):\n",
    "       self.name = name\n",
    "       self.age = age\n",
    "    def changeCatName(self, newName):\n",
    "        cat.name = newName\n",
    "\n",
    "dog = dog(\"qiu\",5)\n",
    "cat = cat(\"miu\",6)\n",
    "print(cat.name)\n",
    "dog.change(cat)\n",
    "print(cat.name)\n"
   ]
  },
  {
   "cell_type": "code",
   "execution_count": 4,
   "metadata": {},
   "outputs": [
    {
     "name": "stdout",
     "output_type": "stream",
     "text": [
      "3\n",
      "<class 'int'>\n"
     ]
    }
   ],
   "source": [
    "class Leader: \n",
    "\n",
    "    def __init__(self, traits, status, influence):\n",
    "        self.traits = traits\n",
    "        self.status = status\n",
    "        self.influence = influence \n",
    "        self.preference = [self.traits[0], self.traits[1]]\n",
    "        self.salience_issue = [self.traits[2], self.traits[3]]\n",
    "    \n",
    "    def demote(self, Tier_demote):\n",
    "        if Tier_demote.status == 1:\n",
    "            Tier_demote.status = 2\n",
    "        elif Tier_demote.status == 2:\n",
    "            Tier_demote.status = 3\n",
    "\n",
    "    def print(self):\n",
    "        ans = self.preference[0]\n",
    "        print(type(ans))\n",
    "\n",
    "\n",
    "class Tier:\n",
    "    def __init__(self, number, traits, status, influence):\n",
    "        self.number = number\n",
    "        self.traits = traits\n",
    "        self.status = status\n",
    "        self.influence = influence \n",
    "        self.preference = [self.traits[0], self.traits[1]]\n",
    "        self.salience_issue = [self.traits[2], self.traits[3]]\n",
    "\n",
    "traits = [rnd.randint(0,10), rnd.randint(0,10),rnd.random() , rnd.random()]\n",
    "influence = [rnd.uniform(0.67,1), rnd.uniform(0,0.33)]\n",
    "leader = Leader(traits, 1, influence)\n",
    "tier2_1 = Tier(1, [rnd.randint(0,10), rnd.randint(0,10), rnd.random(), rnd.random()], 2, [rnd.uniform(0.33,0.67), rnd.uniform(0.33,0.67)])\n",
    "leader.demote(tier2_1)\n",
    "print(tier2_1.status)\n",
    "\n",
    "print(type(leader.preference[0]))"
   ]
  },
  {
   "cell_type": "code",
   "execution_count": 21,
   "metadata": {},
   "outputs": [
    {
     "name": "stdout",
     "output_type": "stream",
     "text": [
      "(20, 20)\n",
      "[[-5.  -4.5 -4.  -3.5 -3.  -2.5 -2.  -1.5 -1.  -0.5  0.   0.5  1.   1.5\n",
      "   2.   2.5  3.   3.5  4.   4.5]\n",
      " [-5.  -4.5 -4.  -3.5 -3.  -2.5 -2.  -1.5 -1.  -0.5  0.   0.5  1.   1.5\n",
      "   2.   2.5  3.   3.5  4.   4.5]\n",
      " [-5.  -4.5 -4.  -3.5 -3.  -2.5 -2.  -1.5 -1.  -0.5  0.   0.5  1.   1.5\n",
      "   2.   2.5  3.   3.5  4.   4.5]\n",
      " [-5.  -4.5 -4.  -3.5 -3.  -2.5 -2.  -1.5 -1.  -0.5  0.   0.5  1.   1.5\n",
      "   2.   2.5  3.   3.5  4.   4.5]\n",
      " [-5.  -4.5 -4.  -3.5 -3.  -2.5 -2.  -1.5 -1.  -0.5  0.   0.5  1.   1.5\n",
      "   2.   2.5  3.   3.5  4.   4.5]\n",
      " [-5.  -4.5 -4.  -3.5 -3.  -2.5 -2.  -1.5 -1.  -0.5  0.   0.5  1.   1.5\n",
      "   2.   2.5  3.   3.5  4.   4.5]\n",
      " [-5.  -4.5 -4.  -3.5 -3.  -2.5 -2.  -1.5 -1.  -0.5  0.   0.5  1.   1.5\n",
      "   2.   2.5  3.   3.5  4.   4.5]\n",
      " [-5.  -4.5 -4.  -3.5 -3.  -2.5 -2.  -1.5 -1.  -0.5  0.   0.5  1.   1.5\n",
      "   2.   2.5  3.   3.5  4.   4.5]\n",
      " [-5.  -4.5 -4.  -3.5 -3.  -2.5 -2.  -1.5 -1.  -0.5  0.   0.5  1.   1.5\n",
      "   2.   2.5  3.   3.5  4.   4.5]\n",
      " [-5.  -4.5 -4.  -3.5 -3.  -2.5 -2.  -1.5 -1.  -0.5  0.   0.5  1.   1.5\n",
      "   2.   2.5  3.   3.5  4.   4.5]\n",
      " [-5.  -4.5 -4.  -3.5 -3.  -2.5 -2.  -1.5 -1.  -0.5  0.   0.5  1.   1.5\n",
      "   2.   2.5  3.   3.5  4.   4.5]\n",
      " [-5.  -4.5 -4.  -3.5 -3.  -2.5 -2.  -1.5 -1.  -0.5  0.   0.5  1.   1.5\n",
      "   2.   2.5  3.   3.5  4.   4.5]\n",
      " [-5.  -4.5 -4.  -3.5 -3.  -2.5 -2.  -1.5 -1.  -0.5  0.   0.5  1.   1.5\n",
      "   2.   2.5  3.   3.5  4.   4.5]\n",
      " [-5.  -4.5 -4.  -3.5 -3.  -2.5 -2.  -1.5 -1.  -0.5  0.   0.5  1.   1.5\n",
      "   2.   2.5  3.   3.5  4.   4.5]\n",
      " [-5.  -4.5 -4.  -3.5 -3.  -2.5 -2.  -1.5 -1.  -0.5  0.   0.5  1.   1.5\n",
      "   2.   2.5  3.   3.5  4.   4.5]\n",
      " [-5.  -4.5 -4.  -3.5 -3.  -2.5 -2.  -1.5 -1.  -0.5  0.   0.5  1.   1.5\n",
      "   2.   2.5  3.   3.5  4.   4.5]\n",
      " [-5.  -4.5 -4.  -3.5 -3.  -2.5 -2.  -1.5 -1.  -0.5  0.   0.5  1.   1.5\n",
      "   2.   2.5  3.   3.5  4.   4.5]\n",
      " [-5.  -4.5 -4.  -3.5 -3.  -2.5 -2.  -1.5 -1.  -0.5  0.   0.5  1.   1.5\n",
      "   2.   2.5  3.   3.5  4.   4.5]\n",
      " [-5.  -4.5 -4.  -3.5 -3.  -2.5 -2.  -1.5 -1.  -0.5  0.   0.5  1.   1.5\n",
      "   2.   2.5  3.   3.5  4.   4.5]\n",
      " [-5.  -4.5 -4.  -3.5 -3.  -2.5 -2.  -1.5 -1.  -0.5  0.   0.5  1.   1.5\n",
      "   2.   2.5  3.   3.5  4.   4.5]]\n"
     ]
    }
   ],
   "source": [
    "import numpy.random as rnd\n",
    "import numpy as np\n",
    "\n",
    "xx = np.arange(-5,5,0.5)\n",
    "yy = np.arange(-5,5,0.5)\n",
    "X, Y = np.meshgrid(xx, yy)\n",
    "X, Z= np.meshgrid(xx,xx)\n",
    "print(X.shape)\n",
    "# print(Y)\n",
    "print(X)"
   ]
  },
  {
   "cell_type": "code",
   "execution_count": 3,
   "metadata": {},
   "outputs": [
    {
     "name": "stdout",
     "output_type": "stream",
     "text": [
      "[99 78 84  3 21 97  6 83 75 12 52  6 78 20  1 44  1 71 93 52  6 90 24 93\n",
      " 70 20 79 10 65 16  2 40 10 53  3 45 23 24 40 46 73 18 37 31  3 18 52 46\n",
      " 63 61 79 15 72 57 42 79 70 39 49 85 17 10 34 78 87 87 97 14 40 78 82  9\n",
      " 65 45 59 92 28 78 77 77 93 25 83 83 40 62 77 20 37 30 74 95 75 35 23 88\n",
      " 61  1 56 38]\n",
      "[6.         4.71428571 5.08163265 0.12244898 1.2244898  5.87755102\n",
      " 0.30612245 5.02040816 4.53061224 0.67346939 3.12244898 0.30612245\n",
      " 4.71428571 1.16326531 0.         2.63265306 0.         4.28571429\n",
      " 5.63265306 3.12244898 0.30612245 5.44897959 1.40816327 5.63265306\n",
      " 4.2244898  1.16326531 4.7755102  0.55102041 3.91836735 0.91836735\n",
      " 0.06122449 2.3877551  0.55102041 3.18367347 0.12244898 2.69387755\n",
      " 1.34693878 1.40816327 2.3877551  2.75510204 4.40816327 1.04081633\n",
      " 2.20408163 1.83673469 0.12244898 1.04081633 3.12244898 2.75510204\n",
      " 3.79591837 3.67346939 4.7755102  0.85714286 4.34693878 3.42857143\n",
      " 2.51020408 4.7755102  4.2244898  2.32653061 2.93877551 5.14285714\n",
      " 0.97959184 0.55102041 2.02040816 4.71428571 5.26530612 5.26530612\n",
      " 5.87755102 0.79591837 2.3877551  4.71428571 4.95918367 0.48979592\n",
      " 3.91836735 2.69387755 3.55102041 5.57142857 1.65306122 4.71428571\n",
      " 4.65306122 4.65306122 5.63265306 1.46938776 5.02040816 5.02040816\n",
      " 2.3877551  3.73469388 4.65306122 1.16326531 2.20408163 1.7755102\n",
      " 4.46938776 5.75510204 4.53061224 2.08163265 1.34693878 5.32653061\n",
      " 3.67346939 0.         3.36734694 2.26530612]\n"
     ]
    }
   ],
   "source": [
    "import numpy as np\n",
    "x = np.random.randint(0, 100, 100)\n",
    "print(x)\n",
    "x = (x - np.min(x)) * 6/ (np.max(x) - np.min(x))\n",
    "print(x)"
   ]
  }
 ],
 "metadata": {
  "kernelspec": {
   "display_name": "base",
   "language": "python",
   "name": "python3"
  },
  "language_info": {
   "codemirror_mode": {
    "name": "ipython",
    "version": 3
   },
   "file_extension": ".py",
   "mimetype": "text/x-python",
   "name": "python",
   "nbconvert_exporter": "python",
   "pygments_lexer": "ipython3",
   "version": "3.9.13"
  },
  "orig_nbformat": 4
 },
 "nbformat": 4,
 "nbformat_minor": 2
}
